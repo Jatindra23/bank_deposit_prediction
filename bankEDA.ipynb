{
 "cells": [
  {
   "cell_type": "markdown",
   "metadata": {},
   "source": [
    "Data Understanding¶\n",
    "\n",
    "        The dataset pertains to direct marketing campaigns conducted by a Portuguese banking institution. These campaigns involved phone calls, often requiring multiple contacts with the same client to determine if they would subscribe to a bank term deposit (indicated as 'yes') or not (indicated as 'no').\n",
    "\n",
    "Objective:\n",
    "\n",
    "        The goal is to classify whether a client will subscribe to a term deposit (variable y) based on various features.\n",
    "\n",
    "Variable Definitions:\n",
    "\n",
    "        age : Age of bank customers, ranging from 18 to 95.\n",
    "        job : Type of job (e.g., housemaid, blue-collar, management, retired).\n",
    "        marital : Marital status (e.g., married, single, divorced).\n",
    "        education: Education level (e.g., high school, illiterate, university degree).\n",
    "        default : Indicates if the customer has credit in default.\n",
    "        balance : Average yearly balance of customers.\n",
    "        housing : Indicates whether the customer has a housing loan.\n",
    "        loan : Indicates whether the customer has a personal loan.\n",
    "        contact : Type of communication used to contact the customer (e.g., cellular, telephone).\n",
    "        day : Day of the week when the last contact was made(Date).\n",
    "        month : Month of the last contact..\n",
    "        duration : Duration of the last call in seconds.\n",
    "        campaign : Number of contacts made during this campaign for this client (numeric, includes the last contact).\n",
    "        pdays : Number of days since the client was last contacted in a previous campaign.\n",
    "        previous : Number of contacts made before this campaign for this client.\n",
    "        poutcome : Outcome of the previous marketing campaign\n",
    "        y : Indicates whether the client subscribed to a term deposit (yes/no).f the week"
   ]
  },
  {
   "cell_type": "markdown",
   "metadata": {},
   "source": [
    "## Create Functions for model training and evaluation"
   ]
  },
  {
   "cell_type": "code",
   "execution_count": 31,
   "metadata": {},
   "outputs": [],
   "source": [
    "import pandas as pd\n",
    "import seaborn as sns\n",
    "import numpy as np\n",
    "from statistics import mean\n",
    "import matplotlib.pyplot as plt\n",
    "import warnings\n",
    "from sklearn.preprocessing import PowerTransformer\n",
    "import numpy as np\n",
    "from sklearn.preprocessing import LabelEncoder\n",
    "from sklearn.pipeline import Pipeline\n",
    "from sklearn.utils import resample\n",
    "\n",
    "from sklearn.linear_model import LogisticRegression\n",
    "from sklearn.ensemble import RandomForestClassifier, AdaBoostClassifier, GradientBoostingClassifier\n",
    "from sklearn.neighbors import KNeighborsClassifier\n",
    "from sklearn.tree import DecisionTreeClassifier\n",
    "from sklearn.svm import SVC\n",
    "from sklearn.metrics import accuracy_score, classification_report,ConfusionMatrixDisplay, \\\n",
    "                            precision_score, recall_score, f1_score, roc_auc_score,roc_curve,confusion_matrix\n",
    "\n",
    "\n",
    "from sklearn import metrics \n",
    "from sklearn.model_selection import  train_test_split, RepeatedStratifiedKFold, cross_val_score\n",
    "from sklearn.preprocessing import OneHotEncoder, MinMaxScaler,OrdinalEncoder\n",
    "from sklearn.compose import ColumnTransformer\n",
    "from sklearn.impute import SimpleImputer, KNNImputer\n",
    "from xgboost import XGBClassifier\n",
    "from sklearn.preprocessing import StandardScaler, MinMaxScaler,RobustScaler\n",
    "from sklearn.compose import ColumnTransformer\n",
    "from catboost import CatBoostClassifier\n",
    "\n",
    "\n",
    "warnings.filterwarnings(\"ignore\")\n",
    "%matplotlib inline"
   ]
  },
  {
   "cell_type": "code",
   "execution_count": 32,
   "metadata": {},
   "outputs": [],
   "source": [
    "def evaluate_clf(true, predicted):\n",
    "    '''\n",
    "    This function takes in true values and predicted values\n",
    "    Returns: Accuracy, F1-Score, Precision, Recall, Roc-auc Score\n",
    "    '''\n",
    "    acc = accuracy_score(true, predicted) # Calculate Accuracy\n",
    "    f1 = f1_score(true, predicted) # Calculate F1-score\n",
    "    precision = precision_score(true, predicted) # Calculate Precision\n",
    "    recall = recall_score(true, predicted)  # Calculate Recall\n",
    "    roc_auc = roc_auc_score(true, predicted) #Calculate Roc\n",
    "    return acc, f1 , precision, recall, roc_auc"
   ]
  },
  {
   "cell_type": "code",
   "execution_count": 33,
   "metadata": {},
   "outputs": [
    {
     "data": {
      "text/plain": [
       "(49732, 17)"
      ]
     },
     "execution_count": 33,
     "metadata": {},
     "output_type": "execute_result"
    }
   ],
   "source": [
    "train_df = pd.read_csv(r\"C:\\Users\\JOY\\Downloads\\archive\\Train.csv\")\n",
    "test_df = pd.read_csv(r\"C:\\Users\\JOY\\Downloads\\archive\\Test.csv\")\n",
    "\n",
    "df = pd.concat([train_df,test_df],ignore_index = True)\n",
    "\n",
    "#df.to_csv(\"bank.csv\",index = False)\n",
    "\n",
    "df.head()\n",
    "df.shape"
   ]
  },
  {
   "cell_type": "code",
   "execution_count": 34,
   "metadata": {},
   "outputs": [
    {
     "data": {
      "text/plain": [
       "(45211, 17)"
      ]
     },
     "execution_count": 34,
     "metadata": {},
     "output_type": "execute_result"
    }
   ],
   "source": [
    "\n",
    "df.drop_duplicates(inplace=True)\n",
    "df.shape"
   ]
  },
  {
   "cell_type": "code",
   "execution_count": 35,
   "metadata": {},
   "outputs": [
    {
     "data": {
      "text/plain": [
       "y\n",
       "no     39922\n",
       "yes     5289\n",
       "Name: count, dtype: int64"
      ]
     },
     "execution_count": 35,
     "metadata": {},
     "output_type": "execute_result"
    }
   ],
   "source": [
    "# Check unique values of target varaible\n",
    "df['y'].value_counts()"
   ]
  },
  {
   "cell_type": "code",
   "execution_count": 36,
   "metadata": {},
   "outputs": [
    {
     "name": "stdout",
     "output_type": "stream",
     "text": [
      "We have 7 numerical features : ['age', 'balance', 'day', 'duration', 'campaign', 'pdays', 'previous']\n",
      "\n",
      "We have 10 categorical features : ['job', 'marital', 'education', 'default', 'housing', 'loan', 'contact', 'month', 'poutcome', 'y']\n"
     ]
    }
   ],
   "source": [
    "# define numerical & categorical columns\n",
    "numeric_features = [feature for feature in df.columns if df[feature].dtype != 'O']\n",
    "categorical_features = [feature for feature in df.columns if df[feature].dtype == 'O']\n",
    "\n",
    "# print columns\n",
    "print('We have {} numerical features : {}'.format(len(numeric_features), numeric_features))\n",
    "print('\\nWe have {} categorical features : {}'.format(len(categorical_features), categorical_features))"
   ]
  },
  {
   "cell_type": "markdown",
   "metadata": {},
   "source": [
    "# Converting unknown values and -1 values to NaN values"
   ]
  },
  {
   "cell_type": "code",
   "execution_count": 37,
   "metadata": {},
   "outputs": [
    {
     "name": "stdout",
     "output_type": "stream",
     "text": [
      "Percentage of Missing Values\n"
     ]
    },
    {
     "data": {
      "text/plain": [
       "job           0.64\n",
       "education     4.11\n",
       "contact      28.80\n",
       "pdays        81.74\n",
       "poutcome     81.75\n",
       "dtype: float64"
      ]
     },
     "execution_count": 37,
     "metadata": {},
     "output_type": "execute_result"
    }
   ],
   "source": [
    "# Converting the values with -1 value to Null\n",
    "df.pdays[df.pdays == -1] = np.nan\n",
    "\n",
    "# Assigning 'NaN' to 'unknown' values to col\n",
    "col = ['job', 'education', 'contact', 'poutcome']\n",
    "\n",
    "for column in col:\n",
    "    df[column].replace('unknown', np.nan, inplace=True)\n",
    "\n",
    "# Viewing percentage of missing values\n",
    "print(\"Percentage of Missing Values\")\n",
    "round((df.isnull().sum()[df.isnull().sum()>0]*100)/df.shape[0],2)"
   ]
  },
  {
   "cell_type": "code",
   "execution_count": 38,
   "metadata": {},
   "outputs": [
    {
     "data": {
      "image/png": "[encoded data removed]",
      "text/plain": [
       "<Figure size 1500x500 with 1 Axes>"
      ]
     },
     "metadata": {},
     "output_type": "display_data"
    }
   ],
   "source": [
    "# Plotting Missing values count for each column\n",
    "fig, ax = plt.subplots(figsize=(15,5))\n",
    "\n",
    "missing = df.isna().sum().div(df.shape[0]).mul(100).to_frame().sort_values(by=0, ascending = False)\n",
    "\n",
    "ax.bar(missing.index, missing.values.T[0])\n",
    "plt.xticks([])\n",
    "plt.ylabel(\"Percentage missing\")\n",
    "plt.show()"
   ]
  },
  {
   "cell_type": "code",
   "execution_count": 39,
   "metadata": {},
   "outputs": [
    {
     "data": {
      "text/html": [
       "<div>\n",
       "<style scoped>\n",
       "    .dataframe tbody tr th:only-of-type {\n",
       "        vertical-align: middle;\n",
       "    }\n",
       "\n",
       "    .dataframe tbody tr th {\n",
       "        vertical-align: top;\n",
       "    }\n",
       "\n",
       "    .dataframe thead th {\n",
       "        text-align: right;\n",
       "    }\n",
       "</style>\n",
       "<table border=\"1\" class=\"dataframe\">\n",
       "  <thead>\n",
       "    <tr style=\"text-align: right;\">\n",
       "      <th></th>\n",
       "      <th>0</th>\n",
       "    </tr>\n",
       "  </thead>\n",
       "  <tbody>\n",
       "    <tr>\n",
       "      <th>poutcome</th>\n",
       "      <td>81.747805</td>\n",
       "    </tr>\n",
       "    <tr>\n",
       "      <th>pdays</th>\n",
       "      <td>81.736745</td>\n",
       "    </tr>\n",
       "  </tbody>\n",
       "</table>\n",
       "</div>"
      ],
      "text/plain": [
       "                  0\n",
       "poutcome  81.747805\n",
       "pdays     81.736745"
      ]
     },
     "execution_count": 39,
     "metadata": {},
     "output_type": "execute_result"
    }
   ],
   "source": [
    "## Dropping columns which has more than 70% of missing values\n",
    "dropcols = missing[missing[0]>70]\n",
    "dropcols"
   ]
  },
  {
   "cell_type": "code",
   "execution_count": 40,
   "metadata": {},
   "outputs": [],
   "source": [
    "df.drop(list(dropcols.index), axis=1, inplace=True)"
   ]
  },
  {
   "cell_type": "code",
   "execution_count": 41,
   "metadata": {},
   "outputs": [
    {
     "data": {
      "text/plain": [
       "(45211, 15)"
      ]
     },
     "execution_count": 41,
     "metadata": {},
     "output_type": "execute_result"
    }
   ],
   "source": [
    "# Check shape of the dataset after dropping columns\n",
    "df.shape"
   ]
  },
  {
   "cell_type": "markdown",
   "metadata": {},
   "source": [
    "### Check the total percentage of missing values of full dataset after dropping columns with more than 70% of missing values"
   ]
  },
  {
   "cell_type": "code",
   "execution_count": 42,
   "metadata": {},
   "outputs": [
    {
     "name": "stdout",
     "output_type": "stream",
     "text": [
      "Percentage of total missing cells in the data 2.236181460264095%\n"
     ]
    }
   ],
   "source": [
    "missing_values_count= df.isnull().sum()\n",
    "total_cells = np.product(df.shape)\n",
    "total_missing = missing_values_count.sum()\n",
    "\n",
    "# percent of data that is missing\n",
    "print(f\"Percentage of total missing cells in the data {(total_missing/total_cells) * 100}%\")"
   ]
  },
  {
   "cell_type": "markdown",
   "metadata": {},
   "source": [
    "## Visualization of unique values in Target variable"
   ]
  },
  {
   "cell_type": "code",
   "execution_count": 43,
   "metadata": {},
   "outputs": [
    {
     "name": "stdout",
     "output_type": "stream",
     "text": [
      "Positive: 5289, Negative: 39922\n"
     ]
    },
    {
     "data": {
      "image/png": "[encoded data removed]",
      "text/plain": [
       "<Figure size 500x500 with 1 Axes>"
      ]
     },
     "metadata": {},
     "output_type": "display_data"
    }
   ],
   "source": [
    "pos = df[df['y']=='yes'].shape[0]\n",
    "neg = df[df['y']=='no'].shape[0]\n",
    "print(\"Positive: \" + str(pos) + \", Negative: \" + str(neg))\n",
    "sns.catplot(data=df, x=\"y\", kind=\"count\", palette=\"winter_r\", alpha=.6)\n",
    "plt.show()"
   ]
  },
  {
   "cell_type": "markdown",
   "metadata": {},
   "source": [
    "**Report**\n",
    "- The target classes are highly imbalanced\n",
    "- Class imbalance is a scenario that arises when we have unequal distribution of class in a dataset i.e. the no. of data points in the negative class (majority class) very large compared to that of the positive class (minority class)\n",
    "- If the imbalanced data is not treated beforehand, then this will degrade the performance of the classifier model. \n",
    "- Hence we should handle imbalanced data with certain methods.\n",
    "\n",
    "**How to handle Imbalance Data ?**\n",
    "\n",
    "- Resampling data is one of the most commonly preferred approaches to deal with an imbalanced dataset. There are broadly two types of methods for this i) Undersampling ii) Oversampling. In most cases, oversampling is preferred over undersampling techniques. The reason being, in undersampling we tend to remove instances from data that may be carrying some important information.\n",
    "- **SMOTE:** Synthetic Minority Oversampling Technique\n",
    "- SMOTE is an oversampling technique where the synthetic samples are generated for the minority class.\n",
    "- Hybridization techniques involve combining both undersampling and oversampling techniques. This is done to optimize the performance of classifier models for the samples created as part of these techniques.\n",
    "- It only duplicates the data and it won't add and new information. Hence we look at some different techniques."
   ]
  },
  {
   "cell_type": "markdown",
   "metadata": {},
   "source": [
    "## Create Functions for model training and evaluation"
   ]
  },
  {
   "cell_type": "code",
   "execution_count": 44,
   "metadata": {},
   "outputs": [],
   "source": [
    "def evaluate_clf(true, predicted):\n",
    "    '''\n",
    "    This function takes in true values and predicted values\n",
    "    Returns: Accuracy, F1-Score, Precision, Recall, Roc-auc Score\n",
    "    '''\n",
    "    acc = accuracy_score(true, predicted) # Calculate Accuracy\n",
    "    f1 = f1_score(true, predicted) # Calculate F1-score\n",
    "    precision = precision_score(true, predicted) # Calculate Precision\n",
    "    recall = recall_score(true, predicted)  # Calculate Recall\n",
    "    roc_auc = roc_auc_score(true, predicted) #Calculate Roc\n",
    "    return acc, f1 , precision, recall, roc_auc"
   ]
  },
  {
   "cell_type": "code",
   "execution_count": 45,
   "metadata": {},
   "outputs": [],
   "source": [
    "# Create a function which can evaluate models and return a report \n",
    "def evaluate_models(X, y, models):\n",
    "    '''\n",
    "    This function takes in X and y and models dictionary as input\n",
    "    It splits the data into Train Test split\n",
    "    Iterates through the given model dictionary and evaluates the metrics\n",
    "    Returns: Dataframe which contains report of all models metrics with cost\n",
    "    '''\n",
    "    # separate dataset into train and test\n",
    "    X_train, X_test, y_train, y_test = train_test_split(X,y,test_size=0.2,random_state=42)\n",
    "    \n",
    "    \n",
    "    models_list = []\n",
    "    accuracy_list = []\n",
    "    \n",
    "    for i in range(len(list(models))):\n",
    "        model = list(models.values())[i]\n",
    "        model.fit(X_train, y_train) # Train model\n",
    "\n",
    "        # Make predictions\n",
    "        y_train_pred = model.predict(X_train)\n",
    "        y_test_pred = model.predict(X_test)\n",
    "\n",
    "        # Training set performance\n",
    "        model_train_accuracy, model_train_f1,model_train_precision,\\\n",
    "        model_train_recall,model_train_rocauc_score=evaluate_clf(y_train ,y_train_pred)\n",
    "        \n",
    "\n",
    "\n",
    "        # Test set performance\n",
    "        model_test_accuracy,model_test_f1,model_test_precision,\\\n",
    "        model_test_recall,model_test_rocauc_score=evaluate_clf(y_test, y_test_pred)\n",
    "        \n",
    "\n",
    "        print(list(models.keys())[i])\n",
    "        models_list.append(list(models.keys())[i])\n",
    "\n",
    "        print('Model performance for Training set')\n",
    "        print(\"- Accuracy: {:.4f}\".format(model_train_accuracy))\n",
    "        print('- F1 score: {:.4f}'.format(model_train_f1)) \n",
    "        print('- Precision: {:.4f}'.format(model_train_precision))\n",
    "        print('- Recall: {:.4f}'.format(model_train_recall))\n",
    "        print('- Roc Auc Score: {:.4f}'.format(model_train_rocauc_score))\n",
    "        \n",
    "\n",
    "        print('----------------------------------')\n",
    "\n",
    "        print('Model performance for Test set')\n",
    "        print('- Accuracy: {:.4f}'.format(model_test_accuracy))\n",
    "        print('- F1 score: {:.4f}'.format(model_test_f1))\n",
    "        print('- Precision: {:.4f}'.format(model_test_precision))\n",
    "        print('- Recall: {:.4f}'.format(model_test_recall))\n",
    "        print('- Roc Auc Score: {:.4f}'.format(model_test_rocauc_score))\n",
    "        print('='*35)\n",
    "        print('\\n')\n",
    "        \n",
    "    report=pd.DataFrame(list(zip(models_list)), columns=['Model Name'])\n",
    "        \n",
    "    return report"
   ]
  },
  {
   "cell_type": "markdown",
   "metadata": {},
   "source": [
    "### Plot  distribution of all Independent Numerical variables"
   ]
  },
  {
   "cell_type": "code",
   "execution_count": 46,
   "metadata": {},
   "outputs": [
    {
     "data": {
      "image/png": "[encoded data removed]",
      "text/plain": [
       "<Figure size 1500x10000 with 6 Axes>"
      ]
     },
     "metadata": {},
     "output_type": "display_data"
    }
   ],
   "source": [
    "numeric_features = [feature for feature in df.columns if df[feature].dtype != 'O']\n",
    "\n",
    "plt.figure(figsize=(15, 100))\n",
    "for i, col in enumerate(numeric_features):\n",
    "    plt.subplot(60, 3, i+1)\n",
    "    sns.distplot(x=df[col], color='indianred')\n",
    "    plt.xlabel(col, weight='bold')\n",
    "    plt.tight_layout()"
   ]
  },
  {
   "cell_type": "markdown",
   "metadata": {},
   "source": [
    "**Report**\n",
    "- As per the above plot most of the features are not normally distributed.\n",
    "- Transformation of data is not of prime importance since it is a classification problem.\n",
    "- Interpreting each and every column is not necessary as this is sensor data."
   ]
  },
  {
   "cell_type": "markdown",
   "metadata": {},
   "source": [
    "# Evaluate Model on Different experiments"
   ]
  },
  {
   "cell_type": "code",
   "execution_count": 47,
   "metadata": {},
   "outputs": [],
   "source": [
    "# Splitting X and y for all Experiments\n",
    "X= df.drop('y', axis=1)\n",
    "y = df['y']"
   ]
  },
  {
   "cell_type": "markdown",
   "metadata": {},
   "source": [
    "- **Manually Encoding Target Variable**"
   ]
  },
  {
   "cell_type": "code",
   "execution_count": 48,
   "metadata": {},
   "outputs": [],
   "source": [
    "y= y.replace({'yes': 1, 'no': 0})"
   ]
  },
  {
   "cell_type": "code",
   "execution_count": 49,
   "metadata": {},
   "outputs": [
    {
     "data": {
      "text/html": [
       "<div>\n",
       "<style scoped>\n",
       "    .dataframe tbody tr th:only-of-type {\n",
       "        vertical-align: middle;\n",
       "    }\n",
       "\n",
       "    .dataframe tbody tr th {\n",
       "        vertical-align: top;\n",
       "    }\n",
       "\n",
       "    .dataframe thead th {\n",
       "        text-align: right;\n",
       "    }\n",
       "</style>\n",
       "<table border=\"1\" class=\"dataframe\">\n",
       "  <thead>\n",
       "    <tr style=\"text-align: right;\">\n",
       "      <th></th>\n",
       "      <th>age</th>\n",
       "      <th>job</th>\n",
       "      <th>marital</th>\n",
       "      <th>education</th>\n",
       "      <th>default</th>\n",
       "      <th>balance</th>\n",
       "      <th>housing</th>\n",
       "      <th>loan</th>\n",
       "      <th>contact</th>\n",
       "      <th>day</th>\n",
       "      <th>month</th>\n",
       "      <th>duration</th>\n",
       "      <th>campaign</th>\n",
       "      <th>previous</th>\n",
       "    </tr>\n",
       "  </thead>\n",
       "  <tbody>\n",
       "    <tr>\n",
       "      <th>0</th>\n",
       "      <td>58</td>\n",
       "      <td>management</td>\n",
       "      <td>married</td>\n",
       "      <td>tertiary</td>\n",
       "      <td>no</td>\n",
       "      <td>2143</td>\n",
       "      <td>yes</td>\n",
       "      <td>no</td>\n",
       "      <td>NaN</td>\n",
       "      <td>5</td>\n",
       "      <td>may</td>\n",
       "      <td>261</td>\n",
       "      <td>1</td>\n",
       "      <td>0</td>\n",
       "    </tr>\n",
       "    <tr>\n",
       "      <th>1</th>\n",
       "      <td>44</td>\n",
       "      <td>technician</td>\n",
       "      <td>single</td>\n",
       "      <td>secondary</td>\n",
       "      <td>no</td>\n",
       "      <td>29</td>\n",
       "      <td>yes</td>\n",
       "      <td>no</td>\n",
       "      <td>NaN</td>\n",
       "      <td>5</td>\n",
       "      <td>may</td>\n",
       "      <td>151</td>\n",
       "      <td>1</td>\n",
       "      <td>0</td>\n",
       "    </tr>\n",
       "    <tr>\n",
       "      <th>2</th>\n",
       "      <td>33</td>\n",
       "      <td>entrepreneur</td>\n",
       "      <td>married</td>\n",
       "      <td>secondary</td>\n",
       "      <td>no</td>\n",
       "      <td>2</td>\n",
       "      <td>yes</td>\n",
       "      <td>yes</td>\n",
       "      <td>NaN</td>\n",
       "      <td>5</td>\n",
       "      <td>may</td>\n",
       "      <td>76</td>\n",
       "      <td>1</td>\n",
       "      <td>0</td>\n",
       "    </tr>\n",
       "    <tr>\n",
       "      <th>3</th>\n",
       "      <td>47</td>\n",
       "      <td>blue-collar</td>\n",
       "      <td>married</td>\n",
       "      <td>NaN</td>\n",
       "      <td>no</td>\n",
       "      <td>1506</td>\n",
       "      <td>yes</td>\n",
       "      <td>no</td>\n",
       "      <td>NaN</td>\n",
       "      <td>5</td>\n",
       "      <td>may</td>\n",
       "      <td>92</td>\n",
       "      <td>1</td>\n",
       "      <td>0</td>\n",
       "    </tr>\n",
       "    <tr>\n",
       "      <th>4</th>\n",
       "      <td>33</td>\n",
       "      <td>NaN</td>\n",
       "      <td>single</td>\n",
       "      <td>NaN</td>\n",
       "      <td>no</td>\n",
       "      <td>1</td>\n",
       "      <td>no</td>\n",
       "      <td>no</td>\n",
       "      <td>NaN</td>\n",
       "      <td>5</td>\n",
       "      <td>may</td>\n",
       "      <td>198</td>\n",
       "      <td>1</td>\n",
       "      <td>0</td>\n",
       "    </tr>\n",
       "    <tr>\n",
       "      <th>...</th>\n",
       "      <td>...</td>\n",
       "      <td>...</td>\n",
       "      <td>...</td>\n",
       "      <td>...</td>\n",
       "      <td>...</td>\n",
       "      <td>...</td>\n",
       "      <td>...</td>\n",
       "      <td>...</td>\n",
       "      <td>...</td>\n",
       "      <td>...</td>\n",
       "      <td>...</td>\n",
       "      <td>...</td>\n",
       "      <td>...</td>\n",
       "      <td>...</td>\n",
       "    </tr>\n",
       "    <tr>\n",
       "      <th>45206</th>\n",
       "      <td>51</td>\n",
       "      <td>technician</td>\n",
       "      <td>married</td>\n",
       "      <td>tertiary</td>\n",
       "      <td>no</td>\n",
       "      <td>825</td>\n",
       "      <td>no</td>\n",
       "      <td>no</td>\n",
       "      <td>cellular</td>\n",
       "      <td>17</td>\n",
       "      <td>nov</td>\n",
       "      <td>977</td>\n",
       "      <td>3</td>\n",
       "      <td>0</td>\n",
       "    </tr>\n",
       "    <tr>\n",
       "      <th>45207</th>\n",
       "      <td>71</td>\n",
       "      <td>retired</td>\n",
       "      <td>divorced</td>\n",
       "      <td>primary</td>\n",
       "      <td>no</td>\n",
       "      <td>1729</td>\n",
       "      <td>no</td>\n",
       "      <td>no</td>\n",
       "      <td>cellular</td>\n",
       "      <td>17</td>\n",
       "      <td>nov</td>\n",
       "      <td>456</td>\n",
       "      <td>2</td>\n",
       "      <td>0</td>\n",
       "    </tr>\n",
       "    <tr>\n",
       "      <th>45208</th>\n",
       "      <td>72</td>\n",
       "      <td>retired</td>\n",
       "      <td>married</td>\n",
       "      <td>secondary</td>\n",
       "      <td>no</td>\n",
       "      <td>5715</td>\n",
       "      <td>no</td>\n",
       "      <td>no</td>\n",
       "      <td>cellular</td>\n",
       "      <td>17</td>\n",
       "      <td>nov</td>\n",
       "      <td>1127</td>\n",
       "      <td>5</td>\n",
       "      <td>3</td>\n",
       "    </tr>\n",
       "    <tr>\n",
       "      <th>45209</th>\n",
       "      <td>57</td>\n",
       "      <td>blue-collar</td>\n",
       "      <td>married</td>\n",
       "      <td>secondary</td>\n",
       "      <td>no</td>\n",
       "      <td>668</td>\n",
       "      <td>no</td>\n",
       "      <td>no</td>\n",
       "      <td>telephone</td>\n",
       "      <td>17</td>\n",
       "      <td>nov</td>\n",
       "      <td>508</td>\n",
       "      <td>4</td>\n",
       "      <td>0</td>\n",
       "    </tr>\n",
       "    <tr>\n",
       "      <th>45210</th>\n",
       "      <td>37</td>\n",
       "      <td>entrepreneur</td>\n",
       "      <td>married</td>\n",
       "      <td>secondary</td>\n",
       "      <td>no</td>\n",
       "      <td>2971</td>\n",
       "      <td>no</td>\n",
       "      <td>no</td>\n",
       "      <td>cellular</td>\n",
       "      <td>17</td>\n",
       "      <td>nov</td>\n",
       "      <td>361</td>\n",
       "      <td>2</td>\n",
       "      <td>11</td>\n",
       "    </tr>\n",
       "  </tbody>\n",
       "</table>\n",
       "<p>45211 rows × 14 columns</p>\n",
       "</div>"
      ],
      "text/plain": [
       "       age           job   marital  education default  balance housing loan  \\\n",
       "0       58    management   married   tertiary      no     2143     yes   no   \n",
       "1       44    technician    single  secondary      no       29     yes   no   \n",
       "2       33  entrepreneur   married  secondary      no        2     yes  yes   \n",
       "3       47   blue-collar   married        NaN      no     1506     yes   no   \n",
       "4       33           NaN    single        NaN      no        1      no   no   \n",
       "...    ...           ...       ...        ...     ...      ...     ...  ...   \n",
       "45206   51    technician   married   tertiary      no      825      no   no   \n",
       "45207   71       retired  divorced    primary      no     1729      no   no   \n",
       "45208   72       retired   married  secondary      no     5715      no   no   \n",
       "45209   57   blue-collar   married  secondary      no      668      no   no   \n",
       "45210   37  entrepreneur   married  secondary      no     2971      no   no   \n",
       "\n",
       "         contact  day month  duration  campaign  previous  \n",
       "0            NaN    5   may       261         1         0  \n",
       "1            NaN    5   may       151         1         0  \n",
       "2            NaN    5   may        76         1         0  \n",
       "3            NaN    5   may        92         1         0  \n",
       "4            NaN    5   may       198         1         0  \n",
       "...          ...  ...   ...       ...       ...       ...  \n",
       "45206   cellular   17   nov       977         3         0  \n",
       "45207   cellular   17   nov       456         2         0  \n",
       "45208   cellular   17   nov      1127         5         3  \n",
       "45209  telephone   17   nov       508         4         0  \n",
       "45210   cellular   17   nov       361         2        11  \n",
       "\n",
       "[45211 rows x 14 columns]"
      ]
     },
     "execution_count": 49,
     "metadata": {},
     "output_type": "execute_result"
    }
   ],
   "source": [
    "X"
   ]
  },
  {
   "cell_type": "markdown",
   "metadata": {},
   "source": [
    "### Experiment: 2 =  Imputing with Strategy Mode"
   ]
  },
  {
   "cell_type": "markdown",
   "metadata": {},
   "source": [
    "- SimpleImputer is a class in the `sklearn.impute` module that can be used to replace missing values in a dataset, using a variety of input strategies.\n",
    "- Here we use SimpleImputer can also be used to impute multiple columns at once by passing in a list of column names. SimpleImputer will then replace missing values in all of the specified columns."
   ]
  },
  {
   "cell_type": "code",
   "execution_count": 50,
   "metadata": {},
   "outputs": [],
   "source": [
    "mode_job = df['job'].mode()[0]\n",
    "mode_contact = df['contact'].mode()[0]\n",
    "mode_education = df['education'].mode()[0]"
   ]
  },
  {
   "cell_type": "code",
   "execution_count": 51,
   "metadata": {},
   "outputs": [],
   "source": [
    "X[\"job\"]=X[\"job\"].fillna(mode_job)\n",
    "X[\"contact\"]=X[\"job\"].fillna(mode_contact)\n",
    "X[\"education\"]=X[\"job\"].fillna(mode_education)"
   ]
  },
  {
   "cell_type": "code",
   "execution_count": 52,
   "metadata": {},
   "outputs": [],
   "source": [
    "transform = Pipeline(steps=[\n",
    "    ('transformer', PowerTransformer(method='yeo-johnson')),\n",
    "    \n",
    "    ])\n",
    "\n",
    "ohe_columns = ['job','marital','education']\n",
    "ord_columns = [ 'default', 'housing', 'loan', 'contact', 'month']\n",
    "impute_cols = ['job','education','contact']\n",
    "transform_cols = ['age','balance','duration','campaign','previous']\n",
    "numerical_features = list(X.select_dtypes(exclude=\"object\").columns)\n",
    "numeric_transformer = StandardScaler()\n",
    "oh_transformer = OneHotEncoder()\n",
    "ordinal_encoder = OrdinalEncoder()\n",
    "robust = RobustScaler()\n",
    "\n",
    "transform_pipe = Pipeline(steps=[\n",
    "    ('transformer', PowerTransformer(method='yeo-johnson'))\n",
    "])\n",
    "\n",
    "preprocessor = ColumnTransformer(\n",
    "    [\n",
    "        (\"OneHotEncoder\", oh_transformer, ohe_columns),\n",
    "        (\"Ordinal_Encoder\", ordinal_encoder, ord_columns),\n",
    "        (\"Transformer\", transform, transform_cols),\n",
    "        (\"RobustScaler\", robust, numerical_features)\n",
    "    ]\n",
    ")\n",
    "\n",
    "\n",
    "\n",
    "\n",
    "X_transformed = preprocessor.fit_transform(X)\n"
   ]
  },
  {
   "cell_type": "code",
   "execution_count": 53,
   "metadata": {},
   "outputs": [
    {
     "data": {
      "text/plain": [
       "array([[ 0.        ,  0.        ,  0.        , ...,  0.375     ,\n",
       "        -0.5       ,  0.        ],\n",
       "       [ 0.        ,  0.        ,  0.        , ..., -0.13425926,\n",
       "        -0.5       ,  0.        ],\n",
       "       [ 0.        ,  0.        ,  1.        , ..., -0.48148148,\n",
       "        -0.5       ,  0.        ],\n",
       "       ...,\n",
       "       [ 0.        ,  0.        ,  0.        , ...,  4.38425926,\n",
       "         1.5       ,  3.        ],\n",
       "       [ 0.        ,  1.        ,  0.        , ...,  1.51851852,\n",
       "         1.        ,  0.        ],\n",
       "       [ 0.        ,  0.        ,  1.        , ...,  0.83796296,\n",
       "         0.        , 11.        ]])"
      ]
     },
     "execution_count": 53,
     "metadata": {},
     "output_type": "execute_result"
    }
   ],
   "source": [
    "X_transformed"
   ]
  },
  {
   "cell_type": "markdown",
   "metadata": {},
   "source": [
    "## Handling Imbalanced data"
   ]
  },
  {
   "cell_type": "markdown",
   "metadata": {},
   "source": [
    " **SMOTE+TOMEK** is one of such a hybrid technique that aims to clean overlapping data points for each of the classes distributed in sample space.\n",
    " \n",
    " - This method combines the SMOTE ability to generate synthetic data for minority class and Tomek Links ability to remove the data that are identified as Tomek links from the majority class\n",
    " \n",
    " - To add new data of minority class\n",
    " 1. Choose random data from the minority class.\n",
    " 2. Calculate the distance between the random data and its k nearest neighbors.\n",
    " 3. Multiply the difference with a random number between 0 and 1, then add the result to the minority class as a synthetic sample.\n",
    " 4. Repeat step number 2–3 until the desired proportion of minority class is met.\n",
    " \n",
    " - To remove the tomek links of the majority class\n",
    " 1. Choose random data from the majority class.\n",
    " 2. If the random data’s nearest neighbor is the data from the minority class (i.e. create the Tomek Link), then remove the Tomek Link.\n",
    " \n",
    " - This is method instead of adding duplicate data it synthesises the new data based on the already avalialble classes. Hence we choose this as our imputer method for this problem."
   ]
  },
  {
   "cell_type": "code",
   "execution_count": 54,
   "metadata": {},
   "outputs": [],
   "source": [
    "\n",
    "from imblearn.combine import SMOTETomek, SMOTEENN\n",
    "\n",
    "# Resampling the minority class. The strategy can be changed as required.\n",
    "smt = SMOTEENN(random_state=42,sampling_strategy='minority' )\n",
    "# Fit the model to generate the data.\n",
    "X_res, y_res = smt.fit_resample(X_transformed, y)"
   ]
  },
  {
   "cell_type": "code",
   "execution_count": 55,
   "metadata": {},
   "outputs": [],
   "source": [
    "X_arr= np.c_[X_res, np.array(y_res)]\n"
   ]
  },
  {
   "cell_type": "code",
   "execution_count": 56,
   "metadata": {},
   "outputs": [],
   "source": [
    "x_np, y_np = (\n",
    "                X_arr[:, :-1],\n",
    "                X_arr[:, -1],\n",
    "                \n",
    "            )"
   ]
  },
  {
   "cell_type": "code",
   "execution_count": 57,
   "metadata": {},
   "outputs": [],
   "source": [
    "# Create a function which can evaluate models and return a report \n",
    "def evaluate_models(X_np,y_np, models):\n",
    "    '''\n",
    "    This function takes in X and y and models dictionary as input\n",
    "    It splits the data into Train Test split\n",
    "    Iterates through the given model dictionary and evaluates the metrics\n",
    "    Returns: Dataframe which contains report of all models metrics with cost\n",
    "    '''\n",
    "    # separate dataset into train and test\n",
    "    X_train, X_test, y_train, y_test = train_test_split(x_np, y_np, test_size=0.2, random_state=42)\n",
    "    \n",
    "    \n",
    "    models_list = []\n",
    "    accuracy_list = []\n",
    "    \n",
    "    for i in range(len(list(models))):\n",
    "        model = list(models.values())[i]\n",
    "        model.fit(X_train, y_train) # Train model\n",
    "\n",
    "        # Make predictions\n",
    "        y_train_pred = model.predict(X_train)\n",
    "        y_test_pred = model.predict(X_test)\n",
    "\n",
    "        # Training set performance\n",
    "        model_train_accuracy, model_train_f1,model_train_precision,\\\n",
    "        model_train_recall,model_train_rocauc_score=evaluate_clf(y_train ,y_train_pred)\n",
    "        \n",
    "\n",
    "\n",
    "        # Test set performance\n",
    "        model_test_accuracy,model_test_f1,model_test_precision,\\\n",
    "        model_test_recall,model_test_rocauc_score=evaluate_clf(y_test, y_test_pred)\n",
    "        \n",
    "\n",
    "        print(list(models.keys())[i])\n",
    "        models_list.append(list(models.keys())[i])\n",
    "\n",
    "        print('Model performance for Training set')\n",
    "        print(\"- Accuracy: {:.4f}\".format(model_train_accuracy))\n",
    "        print('- F1 score: {:.4f}'.format(model_train_f1)) \n",
    "        print('- Precision: {:.4f}'.format(model_train_precision))\n",
    "        print('- Recall: {:.4f}'.format(model_train_recall))\n",
    "        print('- Roc Auc Score: {:.4f}'.format(model_train_rocauc_score))\n",
    "        \n",
    "\n",
    "        print('----------------------------------')\n",
    "\n",
    "        print('Model performance for Test set')\n",
    "        print('- Accuracy: {:.4f}'.format(model_test_accuracy))\n",
    "        print('- F1 score: {:.4f}'.format(model_test_f1))\n",
    "        print('- Precision: {:.4f}'.format(model_test_precision))\n",
    "        print('- Recall: {:.4f}'.format(model_test_recall))\n",
    "        print('- Roc Auc Score: {:.4f}'.format(model_test_rocauc_score))\n",
    "        print('='*35)\n",
    "        print('\\n')\n",
    "        \n",
    "    report=pd.DataFrame(list(zip(models_list)), columns=['Model Name'])\n",
    "        \n",
    "    return report"
   ]
  },
  {
   "cell_type": "markdown",
   "metadata": {},
   "source": [
    "### Experiment: 1 =Robust Scaler\n",
    "\n",
    "    **Why Robust scaler and not Standard scaler?**\n",
    "- Scaling the data using Robust scaler\n",
    "- Since most of the independent variables are not normally distributed we cannot use Standardscaler"
   ]
  },
  {
   "cell_type": "markdown",
   "metadata": {},
   "source": [
    "**Why Robust Scaler and not Minmax?** \n",
    "- because most of the feature has outliers. So Minmax will scale data according to Max values which is outlier.\n",
    "- This Scaler removes the median and scales the data according to the quantile range (defaults to IQR: Interquartile Range). The IQR is the range between the 1st quartile (25th quantile) and the 3rd quartile (75th quantile)."
   ]
  },
  {
   "cell_type": "code",
   "execution_count": 58,
   "metadata": {},
   "outputs": [],
   "source": [
    "models = {\n",
    "    \"Random Forest\": RandomForestClassifier(),\n",
    "    \"Decision Tree\": DecisionTreeClassifier(),\n",
    "    \"Gradient Boosting\": GradientBoostingClassifier(),\n",
    "    \"Logistic Regression\": LogisticRegression(),\n",
    "     \"K-Neighbors Classifier\": KNeighborsClassifier(),\n",
    "    \"XGBClassifier\": XGBClassifier(), \n",
    "     \"CatBoosting Classifier\": CatBoostClassifier(verbose=False),\n",
    "    \"AdaBoost Classifier\": AdaBoostClassifier()\n",
    "}"
   ]
  },
  {
   "cell_type": "code",
   "execution_count": 59,
   "metadata": {},
   "outputs": [
    {
     "name": "stdout",
     "output_type": "stream",
     "text": [
      "Random Forest\n",
      "Model performance for Training set\n",
      "- Accuracy: 1.0000\n",
      "- F1 score: 1.0000\n",
      "- Precision: 1.0000\n",
      "- Recall: 1.0000\n",
      "- Roc Auc Score: 1.0000\n",
      "----------------------------------\n",
      "Model performance for Test set\n",
      "- Accuracy: 0.9707\n",
      "- F1 score: 0.9738\n",
      "- Precision: 0.9686\n",
      "- Recall: 0.9790\n",
      "- Roc Auc Score: 0.9697\n",
      "===================================\n",
      "\n",
      "\n",
      "Decision Tree\n",
      "Model performance for Training set\n",
      "- Accuracy: 1.0000\n",
      "- F1 score: 1.0000\n",
      "- Precision: 1.0000\n",
      "- Recall: 1.0000\n",
      "- Roc Auc Score: 1.0000\n",
      "----------------------------------\n",
      "Model performance for Test set\n",
      "- Accuracy: 0.9436\n",
      "- F1 score: 0.9493\n",
      "- Precision: 0.9473\n",
      "- Recall: 0.9513\n",
      "- Roc Auc Score: 0.9427\n",
      "===================================\n",
      "\n",
      "\n",
      "Gradient Boosting\n",
      "Model performance for Training set\n",
      "- Accuracy: 0.9460\n",
      "- F1 score: 0.9512\n",
      "- Precision: 0.9482\n",
      "- Recall: 0.9541\n",
      "- Roc Auc Score: 0.9451\n",
      "----------------------------------\n",
      "Model performance for Test set\n",
      "- Accuracy: 0.9436\n",
      "- F1 score: 0.9493\n",
      "- Precision: 0.9479\n",
      "- Recall: 0.9507\n",
      "- Roc Auc Score: 0.9427\n",
      "===================================\n",
      "\n",
      "\n",
      "Logistic Regression\n",
      "Model performance for Training set\n",
      "- Accuracy: 0.8778\n",
      "- F1 score: 0.8892\n",
      "- Precision: 0.8882\n",
      "- Recall: 0.8903\n",
      "- Roc Auc Score: 0.8763\n",
      "----------------------------------\n",
      "Model performance for Test set\n",
      "- Accuracy: 0.8731\n",
      "- F1 score: 0.8856\n",
      "- Precision: 0.8867\n",
      "- Recall: 0.8845\n",
      "- Roc Auc Score: 0.8717\n",
      "===================================\n",
      "\n",
      "\n",
      "K-Neighbors Classifier\n",
      "Model performance for Training set\n",
      "- Accuracy: 0.9893\n",
      "- F1 score: 0.9904\n",
      "- Precision: 0.9817\n",
      "- Recall: 0.9992\n",
      "- Roc Auc Score: 0.9882\n",
      "----------------------------------\n",
      "Model performance for Test set\n",
      "- Accuracy: 0.9773\n",
      "- F1 score: 0.9799\n",
      "- Precision: 0.9633\n",
      "- Recall: 0.9971\n",
      "- Roc Auc Score: 0.9748\n",
      "===================================\n",
      "\n",
      "\n",
      "XGBClassifier\n",
      "Model performance for Training set\n",
      "- Accuracy: 0.9859\n",
      "- F1 score: 0.9872\n",
      "- Precision: 0.9893\n",
      "- Recall: 0.9851\n",
      "- Roc Auc Score: 0.9860\n",
      "----------------------------------\n",
      "Model performance for Test set\n",
      "- Accuracy: 0.9725\n",
      "- F1 score: 0.9752\n",
      "- Precision: 0.9765\n",
      "- Recall: 0.9739\n",
      "- Roc Auc Score: 0.9723\n",
      "===================================\n",
      "\n",
      "\n",
      "CatBoosting Classifier\n",
      "Model performance for Training set\n",
      "- Accuracy: 0.9844\n",
      "- F1 score: 0.9858\n",
      "- Precision: 0.9885\n",
      "- Recall: 0.9831\n",
      "- Roc Auc Score: 0.9845\n",
      "----------------------------------\n",
      "Model performance for Test set\n",
      "- Accuracy: 0.9737\n",
      "- F1 score: 0.9762\n",
      "- Precision: 0.9789\n",
      "- Recall: 0.9736\n",
      "- Roc Auc Score: 0.9737\n",
      "===================================\n",
      "\n",
      "\n",
      "AdaBoost Classifier\n",
      "Model performance for Training set\n",
      "- Accuracy: 0.9272\n",
      "- F1 score: 0.9340\n",
      "- Precision: 0.9336\n",
      "- Recall: 0.9344\n",
      "- Roc Auc Score: 0.9264\n",
      "----------------------------------\n",
      "Model performance for Test set\n",
      "- Accuracy: 0.9236\n",
      "- F1 score: 0.9313\n",
      "- Precision: 0.9310\n",
      "- Recall: 0.9315\n",
      "- Roc Auc Score: 0.9227\n",
      "===================================\n",
      "\n",
      "\n"
     ]
    }
   ],
   "source": [
    "model = evaluate_models(x_np,y_np,models)"
   ]
  },
  {
   "cell_type": "code",
   "execution_count": 60,
   "metadata": {},
   "outputs": [
    {
     "data": {
      "text/plain": [
       "'\\nRandom Forest\\nModel performance for Training set\\n- Accuracy: 1.0000\\n- F1 score: 1.0000\\n- Precision: 1.0000\\n- Recall: 1.0000\\n- Roc Auc Score: 1.0000\\n----------------------------------\\nModel performance for Test set\\n- Accuracy: 0.9390\\n- F1 score: 0.9403\\n- Precision: 0.9218\\n- Recall: 0.9596\\n- Roc Auc Score: 0.9390\\n===================================\\n\\n\\nDecision Tree\\nModel performance for Training set\\n- Accuracy: 1.0000\\n- F1 score: 1.0000\\n- Precision: 1.0000\\n- Recall: 1.0000\\n- Roc Auc Score: 1.0000\\n----------------------------------\\nModel performance for Test set\\n- Accuracy: 0.9070\\n- F1 score: 0.9081\\n- Precision: 0.8983\\n- Recall: 0.9180\\n- Roc Auc Score: 0.9070\\n===================================\\n\\n\\nGradient Boosting\\nModel performance for Training set\\n- Accuracy: 0.9090\\n- F1 score: 0.9106\\n- Precision: 0.8950\\n- Recall: 0.9267\\n- Roc Auc Score: 0.9090\\n----------------------------------\\nModel performance for Test set\\n- Accuracy: 0.9062\\n- F1 score: 0.9081\\n- Precision: 0.8906\\n- Recall: 0.9263\\n- Roc Auc Score: 0.9062\\n===================================\\n\\n\\nLogistic Regression\\nModel performance for Training set\\n- Accuracy: 0.8147\\n- F1 score: 0.8182\\n- Precision: 0.8030\\n- Recall: 0.8339\\n- Roc Auc Score: 0.8147\\n----------------------------------\\nModel performance for Test set\\n- Accuracy: 0.8138\\n- F1 score: 0.8176\\n- Precision: 0.8016\\n- Recall: 0.8342\\n- Roc Auc Score: 0.8138\\n===================================\\n\\n\\nK-Neighbors Classifier\\nModel performance for Training set\\n- Accuracy: 0.9301\\n- F1 score: 0.9345\\n- Precision: 0.8791\\n- Recall: 0.9975\\n- Roc Auc Score: 0.9301\\n----------------------------------\\nModel performance for Test set\\n- Accuracy: 0.9051\\n- F1 score: 0.9128\\n- Precision: 0.8447\\n- Recall: 0.9928\\n- Roc Auc Score: 0.9051\\n===================================\\n\\n\\nXGBClassifier\\nModel performance for Training set\\n- Accuracy: 0.9637\\n- F1 score: 0.9635\\n- Precision: 0.9687\\n- Recall: 0.9584\\n- Roc Auc Score: 0.9637\\n----------------------------------\\nModel performance for Test set\\n- Accuracy: 0.9424\\n- F1 score: 0.9423\\n- Precision: 0.9449\\n- Recall: 0.9398\\n- Roc Auc Score: 0.9424\\n===================================\\n\\n\\nCatBoosting Classifier\\nModel performance for Training set\\n- Accuracy: 0.9648\\n- F1 score: 0.9644\\n- Precision: 0.9745\\n- Recall: 0.9544\\n- Roc Auc Score: 0.9648\\n----------------------------------\\nModel performance for Test set\\n- Accuracy: 0.9457\\n- F1 score: 0.9454\\n- Precision: 0.9517\\n- Recall: 0.9391\\n- Roc Auc Score: 0.9457\\n===================================\\n\\n\\nAdaBoost Classifier\\nModel performance for Training set\\n- Accuracy: 0.8811\\n- F1 score: 0.8815\\n- Precision: 0.8783\\n- Recall: 0.8847\\n- Roc Auc Score: 0.8811\\n----------------------------------\\nModel performance for Test set\\n- Accuracy: 0.8807\\n- F1 score: 0.8813\\n- Precision: 0.8772\\n- Recall: 0.8855\\n- Roc Auc Score: 0.8807'"
      ]
     },
     "execution_count": 60,
     "metadata": {},
     "output_type": "execute_result"
    }
   ],
   "source": [
    "\"\"\"\n",
    "Random Forest\n",
    "Model performance for Training set\n",
    "- Accuracy: 1.0000\n",
    "- F1 score: 1.0000\n",
    "- Precision: 1.0000\n",
    "- Recall: 1.0000\n",
    "- Roc Auc Score: 1.0000\n",
    "----------------------------------\n",
    "Model performance for Test set\n",
    "- Accuracy: 0.9390\n",
    "- F1 score: 0.9403\n",
    "- Precision: 0.9218\n",
    "- Recall: 0.9596\n",
    "- Roc Auc Score: 0.9390\n",
    "===================================\n",
    "\n",
    "\n",
    "Decision Tree\n",
    "Model performance for Training set\n",
    "- Accuracy: 1.0000\n",
    "- F1 score: 1.0000\n",
    "- Precision: 1.0000\n",
    "- Recall: 1.0000\n",
    "- Roc Auc Score: 1.0000\n",
    "----------------------------------\n",
    "Model performance for Test set\n",
    "- Accuracy: 0.9070\n",
    "- F1 score: 0.9081\n",
    "- Precision: 0.8983\n",
    "- Recall: 0.9180\n",
    "- Roc Auc Score: 0.9070\n",
    "===================================\n",
    "\n",
    "\n",
    "Gradient Boosting\n",
    "Model performance for Training set\n",
    "- Accuracy: 0.9090\n",
    "- F1 score: 0.9106\n",
    "- Precision: 0.8950\n",
    "- Recall: 0.9267\n",
    "- Roc Auc Score: 0.9090\n",
    "----------------------------------\n",
    "Model performance for Test set\n",
    "- Accuracy: 0.9062\n",
    "- F1 score: 0.9081\n",
    "- Precision: 0.8906\n",
    "- Recall: 0.9263\n",
    "- Roc Auc Score: 0.9062\n",
    "===================================\n",
    "\n",
    "\n",
    "Logistic Regression\n",
    "Model performance for Training set\n",
    "- Accuracy: 0.8147\n",
    "- F1 score: 0.8182\n",
    "- Precision: 0.8030\n",
    "- Recall: 0.8339\n",
    "- Roc Auc Score: 0.8147\n",
    "----------------------------------\n",
    "Model performance for Test set\n",
    "- Accuracy: 0.8138\n",
    "- F1 score: 0.8176\n",
    "- Precision: 0.8016\n",
    "- Recall: 0.8342\n",
    "- Roc Auc Score: 0.8138\n",
    "===================================\n",
    "\n",
    "\n",
    "K-Neighbors Classifier\n",
    "Model performance for Training set\n",
    "- Accuracy: 0.9301\n",
    "- F1 score: 0.9345\n",
    "- Precision: 0.8791\n",
    "- Recall: 0.9975\n",
    "- Roc Auc Score: 0.9301\n",
    "----------------------------------\n",
    "Model performance for Test set\n",
    "- Accuracy: 0.9051\n",
    "- F1 score: 0.9128\n",
    "- Precision: 0.8447\n",
    "- Recall: 0.9928\n",
    "- Roc Auc Score: 0.9051\n",
    "===================================\n",
    "\n",
    "\n",
    "XGBClassifier\n",
    "Model performance for Training set\n",
    "- Accuracy: 0.9637\n",
    "- F1 score: 0.9635\n",
    "- Precision: 0.9687\n",
    "- Recall: 0.9584\n",
    "- Roc Auc Score: 0.9637\n",
    "----------------------------------\n",
    "Model performance for Test set\n",
    "- Accuracy: 0.9424\n",
    "- F1 score: 0.9423\n",
    "- Precision: 0.9449\n",
    "- Recall: 0.9398\n",
    "- Roc Auc Score: 0.9424\n",
    "===================================\n",
    "\n",
    "\n",
    "CatBoosting Classifier\n",
    "Model performance for Training set\n",
    "- Accuracy: 0.9648\n",
    "- F1 score: 0.9644\n",
    "- Precision: 0.9745\n",
    "- Recall: 0.9544\n",
    "- Roc Auc Score: 0.9648\n",
    "----------------------------------\n",
    "Model performance for Test set\n",
    "- Accuracy: 0.9457\n",
    "- F1 score: 0.9454\n",
    "- Precision: 0.9517\n",
    "- Recall: 0.9391\n",
    "- Roc Auc Score: 0.9457\n",
    "===================================\n",
    "\n",
    "\n",
    "AdaBoost Classifier\n",
    "Model performance for Training set\n",
    "- Accuracy: 0.8811\n",
    "- F1 score: 0.8815\n",
    "- Precision: 0.8783\n",
    "- Recall: 0.8847\n",
    "- Roc Auc Score: 0.8811\n",
    "----------------------------------\n",
    "Model performance for Test set\n",
    "- Accuracy: 0.8807\n",
    "- F1 score: 0.8813\n",
    "- Precision: 0.8772\n",
    "- Recall: 0.8855\n",
    "- Roc Auc Score: 0.8807\"\"\""
   ]
  },
  {
   "cell_type": "code",
   "execution_count": null,
   "metadata": {},
   "outputs": [],
   "source": []
  }
 ],
 "metadata": {
  "kernelspec": {
   "display_name": "Python 3",
   "language": "python",
   "name": "python3"
  },
  "language_info": {
   "codemirror_mode": {
    "name": "ipython",
    "version": 3
   },
   "file_extension": ".py",
   "mimetype": "text/x-python",
   "name": "python",
   "nbconvert_exporter": "python",
   "pygments_lexer": "ipython3",
   "version": "3.8.19"
  }
 },
 "nbformat": 4,
 "nbformat_minor": 2
}
