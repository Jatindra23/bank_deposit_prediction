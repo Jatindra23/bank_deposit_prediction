{
 "cells": [
  {
   "cell_type": "code",
   "execution_count": 2,
   "metadata": {},
   "outputs": [],
   "source": [
    "import pymongo\n",
    "from pymongo.mongo_client import MongoClient"
   ]
  },
  {
   "cell_type": "code",
   "execution_count": 6,
   "metadata": {},
   "outputs": [
    {
     "name": "stdout",
     "output_type": "stream",
     "text": [
      "Pinged your deployment. You successfully connected to MongoDB!\n"
     ]
    }
   ],
   "source": [
    "\n",
    "from pymongo.mongo_client import MongoClient\n",
    "\n",
    "uri =\n",
    "\n",
    "# Create a new client and connect to the server\n",
    "client = MongoClient(uri)\n",
    "\n",
    "# Send a ping to confirm a successful connection\n",
    "try:\n",
    "    client.admin.command('ping')\n",
    "    print(\"Pinged your deployment. You successfully connected to MongoDB!\")\n",
    "except Exception as e:\n",
    "    print(e)"
   ]
  },
  {
   "cell_type": "code",
   "execution_count": 11,
   "metadata": {},
   "outputs": [],
   "source": [
    "db = client['joy']\n",
    "collection = db[\"joy_collection\"]\n",
    "\n",
    "data = { \n",
    "    \"name\": \"Jatindtra Paul\",\n",
    "    \"age\" : 25,\n",
    "    \"email\": \"joyhandsome@beingsexy.com\"\n",
    "}\n",
    "import pandas as pd\n",
    "import json\n",
    "df = pd.read_csv(\"bank.csv\")\n",
    "df.reset_index(drop=True, inplace=True)\n",
    "records = list(json.loads(df.T.to_json()).values())\n",
    "\n",
    "\n",
    "result = collection.insert_many(records)"
   ]
  },
  {
   "cell_type": "code",
   "execution_count": 5,
   "metadata": {},
   "outputs": [
    {
     "name": "stdout",
     "output_type": "stream",
     "text": [
      "{'_id': ObjectId('66b72a8c44703124ade306cf'), 'name': 'Jatindtra Paul', 'age': 25, 'email': 'joyhandsome@beingsexy.com'}\n"
     ]
    }
   ],
   "source": [
    "cursor = collection.find({})\n",
    "\n",
    "for i in cursor:\n",
    "    print(i)"
   ]
  },
  {
   "cell_type": "markdown",
   "metadata": {},
   "source": []
  },
  {
   "cell_type": "code",
   "execution_count": 1,
   "metadata": {},
   "outputs": [],
   "source": [
    "from scipy.stats import ks_2samp\n",
    "import numpy as np"
   ]
  },
  {
   "cell_type": "code",
   "execution_count": 2,
   "metadata": {},
   "outputs": [],
   "source": [
    "d1 = np.arange(10)\n",
    "d2 = np.arange(10)"
   ]
  },
  {
   "cell_type": "code",
   "execution_count": 4,
   "metadata": {},
   "outputs": [],
   "source": [
    "test = ks_2samp(d1, d2)"
   ]
  },
  {
   "cell_type": "code",
   "execution_count": 5,
   "metadata": {},
   "outputs": [
    {
     "data": {
      "text/plain": [
       "KstestResult(statistic=0.0, pvalue=1.0, statistic_location=0, statistic_sign=1)"
      ]
     },
     "execution_count": 5,
     "metadata": {},
     "output_type": "execute_result"
    }
   ],
   "source": [
    "test"
   ]
  },
  {
   "cell_type": "code",
   "execution_count": 2,
   "metadata": {},
   "outputs": [
    {
     "name": "stdout",
     "output_type": "stream",
     "text": [
      "['c:\\\\Users\\\\JOY\\\\Desktop\\\\bank_term_deposit_prediction', 'c:\\\\Users\\\\JOY\\\\Desktop\\\\bank_term_deposit_prediction\\\\venv\\\\python38.zip', 'c:\\\\Users\\\\JOY\\\\Desktop\\\\bank_term_deposit_prediction\\\\venv\\\\DLLs', 'c:\\\\Users\\\\JOY\\\\Desktop\\\\bank_term_deposit_prediction\\\\venv\\\\lib', 'c:\\\\Users\\\\JOY\\\\Desktop\\\\bank_term_deposit_prediction\\\\venv', '', 'C:\\\\Users\\\\JOY\\\\AppData\\\\Roaming\\\\Python\\\\Python38\\\\site-packages', 'c:\\\\Users\\\\JOY\\\\Desktop\\\\bank_term_deposit_prediction\\\\venv\\\\lib\\\\site-packages', 'c:\\\\Users\\\\JOY\\\\Desktop\\\\bank_term_deposit_prediction\\\\venv\\\\lib\\\\site-packages\\\\bank_term_deposit_prediction-0.0.0.1-py3.8.egg', 'c:\\\\users\\\\joy\\\\desktop\\\\bank_term_deposit_prediction', 'c:\\\\Users\\\\JOY\\\\Desktop\\\\bank_term_deposit_prediction\\\\venv\\\\lib\\\\site-packages\\\\bank_term_deposit_prediction-0.0.1-py3.8.egg', 'c:\\\\Users\\\\JOY\\\\Desktop\\\\bank_term_deposit_prediction\\\\venv\\\\lib\\\\site-packages\\\\bank_term_deposit_prediction-0.1-py3.8.egg', 'c:\\\\Users\\\\JOY\\\\Desktop\\\\bank_term_deposit_prediction\\\\venv\\\\lib\\\\site-packages\\\\bank_term_deposit_prediction-0.1.0-py3.8.egg', 'c:\\\\Users\\\\JOY\\\\Desktop\\\\bank_term_deposit_prediction\\\\venv\\\\lib\\\\site-packages\\\\bank_term_deposit_prediction-0.0.1.0-py3.8.egg', 'c:\\\\Users\\\\JOY\\\\Desktop\\\\bank_term_deposit_prediction\\\\venv\\\\lib\\\\site-packages\\\\bank_term_deposit_prediction-1.0-py3.8.egg', 'c:\\\\Users\\\\JOY\\\\Desktop\\\\bank_term_deposit_prediction\\\\venv\\\\lib\\\\site-packages\\\\bank_term_deposit_prediction-1.0.0-py3.8.egg', 'c:\\\\Users\\\\JOY\\\\Desktop\\\\bank_term_deposit_prediction\\\\venv\\\\lib\\\\site-packages\\\\win32', 'c:\\\\Users\\\\JOY\\\\Desktop\\\\bank_term_deposit_prediction\\\\venv\\\\lib\\\\site-packages\\\\win32\\\\lib', 'c:\\\\Users\\\\JOY\\\\Desktop\\\\bank_term_deposit_prediction\\\\venv\\\\lib\\\\site-packages\\\\Pythonwin']\n"
     ]
    }
   ],
   "source": [
    "import sys\n",
    "print(list(sys.path))\n"
   ]
  },
  {
   "cell_type": "code",
   "execution_count": 1,
   "metadata": {},
   "outputs": [
    {
     "name": "stdout",
     "output_type": "stream",
     "text": [
      "Requirement already satisfied: evidently in c:\\users\\joy\\desktop\\bank_term_deposit_prediction\\venv\\lib\\site-packages (0.4.35)\n",
      "Requirement already satisfied: plotly>=5.10.0 in c:\\users\\joy\\desktop\\bank_term_deposit_prediction\\venv\\lib\\site-packages (from evidently) (5.23.0)\n",
      "Requirement already satisfied: statsmodels>=0.12.2 in c:\\users\\joy\\appdata\\roaming\\python\\python38\\site-packages (from evidently) (0.13.2)\n",
      "Requirement already satisfied: scikit-learn>=1.0.1 in c:\\users\\joy\\desktop\\bank_term_deposit_prediction\\venv\\lib\\site-packages (from evidently) (1.3.2)\n",
      "Requirement already satisfied: pandas>=1.3.5 in c:\\users\\joy\\desktop\\bank_term_deposit_prediction\\venv\\lib\\site-packages (from pandas[parquet]>=1.3.5->evidently) (2.0.3)\n",
      "Requirement already satisfied: numpy>=1.22.0 in c:\\users\\joy\\desktop\\bank_term_deposit_prediction\\venv\\lib\\site-packages (from evidently) (1.24.4)\n",
      "Requirement already satisfied: nltk>=3.6.7 in c:\\users\\joy\\desktop\\bank_term_deposit_prediction\\venv\\lib\\site-packages (from evidently) (3.8.2)\n",
      "Requirement already satisfied: scipy>=1.10.0 in c:\\users\\joy\\desktop\\bank_term_deposit_prediction\\venv\\lib\\site-packages (from evidently) (1.10.1)\n",
      "Requirement already satisfied: requests>=2.32.0 in c:\\users\\joy\\desktop\\bank_term_deposit_prediction\\venv\\lib\\site-packages (from evidently) (2.32.3)\n",
      "Requirement already satisfied: PyYAML>=5.4 in c:\\users\\joy\\desktop\\bank_term_deposit_prediction\\venv\\lib\\site-packages (from evidently) (6.0.2)\n",
      "Requirement already satisfied: pydantic>=1.10.13 in c:\\users\\joy\\desktop\\bank_term_deposit_prediction\\venv\\lib\\site-packages (from evidently) (2.8.2)\n",
      "Requirement already satisfied: litestar>=2.8.3 in c:\\users\\joy\\desktop\\bank_term_deposit_prediction\\venv\\lib\\site-packages (from evidently) (2.10.0)\n",
      "Requirement already satisfied: typing-inspect>=0.9.0 in c:\\users\\joy\\desktop\\bank_term_deposit_prediction\\venv\\lib\\site-packages (from evidently) (0.9.0)\n",
      "Requirement already satisfied: uvicorn>=0.22.0 in c:\\users\\joy\\desktop\\bank_term_deposit_prediction\\venv\\lib\\site-packages (from uvicorn[standard]>=0.22.0->evidently) (0.30.6)\n",
      "Requirement already satisfied: watchdog>=3.0.0 in c:\\users\\joy\\desktop\\bank_term_deposit_prediction\\venv\\lib\\site-packages (from evidently) (4.0.2)\n",
      "Requirement already satisfied: typer>=0.3 in c:\\users\\joy\\desktop\\bank_term_deposit_prediction\\venv\\lib\\site-packages (from evidently) (0.12.3)\n",
      "Requirement already satisfied: rich>=13 in c:\\users\\joy\\desktop\\bank_term_deposit_prediction\\venv\\lib\\site-packages (from evidently) (13.7.1)\n",
      "Requirement already satisfied: iterative-telemetry>=0.0.5 in c:\\users\\joy\\desktop\\bank_term_deposit_prediction\\venv\\lib\\site-packages (from evidently) (0.0.8)\n",
      "Requirement already satisfied: dynaconf>=3.2.4 in c:\\users\\joy\\desktop\\bank_term_deposit_prediction\\venv\\lib\\site-packages (from evidently) (3.2.6)\n",
      "Requirement already satisfied: certifi>=2024.7.4 in c:\\users\\joy\\desktop\\bank_term_deposit_prediction\\venv\\lib\\site-packages (from evidently) (2024.7.4)\n",
      "Requirement already satisfied: urllib3>=1.26.19 in c:\\users\\joy\\desktop\\bank_term_deposit_prediction\\venv\\lib\\site-packages (from evidently) (2.2.2)\n",
      "Requirement already satisfied: fsspec>=2024.2.0 in c:\\users\\joy\\desktop\\bank_term_deposit_prediction\\venv\\lib\\site-packages (from evidently) (2024.6.1)\n",
      "Requirement already satisfied: ujson>=5.4.0 in c:\\users\\joy\\desktop\\bank_term_deposit_prediction\\venv\\lib\\site-packages (from evidently) (5.10.0)\n",
      "Requirement already satisfied: deprecation>=2.1.0 in c:\\users\\joy\\desktop\\bank_term_deposit_prediction\\venv\\lib\\site-packages (from evidently) (2.1.0)\n",
      "Requirement already satisfied: opentelemetry-api>=1.25.0 in c:\\users\\joy\\desktop\\bank_term_deposit_prediction\\venv\\lib\\site-packages (from evidently) (1.26.0)\n",
      "Requirement already satisfied: opentelemetry-sdk>=1.25.0 in c:\\users\\joy\\desktop\\bank_term_deposit_prediction\\venv\\lib\\site-packages (from evidently) (1.26.0)\n",
      "Requirement already satisfied: opentelemetry-proto>=1.25.0 in c:\\users\\joy\\desktop\\bank_term_deposit_prediction\\venv\\lib\\site-packages (from evidently) (1.26.0)\n",
      "Requirement already satisfied: opentelemetry-exporter-otlp-proto-grpc>=1.25.0 in c:\\users\\joy\\desktop\\bank_term_deposit_prediction\\venv\\lib\\site-packages (from evidently) (1.26.0)\n",
      "Requirement already satisfied: opentelemetry-exporter-otlp-proto-http>=1.25.0 in c:\\users\\joy\\desktop\\bank_term_deposit_prediction\\venv\\lib\\site-packages (from evidently) (1.26.0)\n",
      "Requirement already satisfied: packaging in c:\\users\\joy\\desktop\\bank_term_deposit_prediction\\venv\\lib\\site-packages (from deprecation>=2.1.0->evidently) (24.1)\n",
      "Requirement already satisfied: appdirs in c:\\users\\joy\\desktop\\bank_term_deposit_prediction\\venv\\lib\\site-packages (from iterative-telemetry>=0.0.5->evidently) (1.4.4)\n",
      "Requirement already satisfied: filelock in c:\\users\\joy\\desktop\\bank_term_deposit_prediction\\venv\\lib\\site-packages (from iterative-telemetry>=0.0.5->evidently) (3.15.4)\n",
      "Requirement already satisfied: distro in c:\\users\\joy\\desktop\\bank_term_deposit_prediction\\venv\\lib\\site-packages (from iterative-telemetry>=0.0.5->evidently) (1.9.0)\n",
      "Requirement already satisfied: anyio>=3 in c:\\users\\joy\\desktop\\bank_term_deposit_prediction\\venv\\lib\\site-packages (from litestar>=2.8.3->evidently) (4.4.0)\n",
      "Requirement already satisfied: click in c:\\users\\joy\\desktop\\bank_term_deposit_prediction\\venv\\lib\\site-packages (from litestar>=2.8.3->evidently) (8.1.7)\n",
      "Requirement already satisfied: exceptiongroup in c:\\users\\joy\\desktop\\bank_term_deposit_prediction\\venv\\lib\\site-packages (from litestar>=2.8.3->evidently) (1.2.2)\n",
      "Requirement already satisfied: httpx>=0.22 in c:\\users\\joy\\desktop\\bank_term_deposit_prediction\\venv\\lib\\site-packages (from litestar>=2.8.3->evidently) (0.27.0)\n",
      "Requirement already satisfied: importlib-metadata in c:\\users\\joy\\desktop\\bank_term_deposit_prediction\\venv\\lib\\site-packages (from litestar>=2.8.3->evidently) (7.0.1)\n",
      "Requirement already satisfied: importlib-resources>=5.12.0 in c:\\users\\joy\\desktop\\bank_term_deposit_prediction\\venv\\lib\\site-packages (from litestar>=2.8.3->evidently) (6.4.0)\n",
      "Requirement already satisfied: msgspec>=0.18.2 in c:\\users\\joy\\desktop\\bank_term_deposit_prediction\\venv\\lib\\site-packages (from litestar>=2.8.3->evidently) (0.18.6)\n",
      "Requirement already satisfied: multidict>=6.0.2 in c:\\users\\joy\\desktop\\bank_term_deposit_prediction\\venv\\lib\\site-packages (from litestar>=2.8.3->evidently) (6.0.5)\n",
      "Requirement already satisfied: polyfactory>=2.6.3 in c:\\users\\joy\\desktop\\bank_term_deposit_prediction\\venv\\lib\\site-packages (from litestar>=2.8.3->evidently) (2.16.2)\n",
      "Requirement already satisfied: rich-click in c:\\users\\joy\\desktop\\bank_term_deposit_prediction\\venv\\lib\\site-packages (from litestar>=2.8.3->evidently) (1.8.3)\n",
      "Requirement already satisfied: typing-extensions in c:\\users\\joy\\desktop\\bank_term_deposit_prediction\\venv\\lib\\site-packages (from litestar>=2.8.3->evidently) (4.11.0)\n",
      "Requirement already satisfied: joblib in c:\\users\\joy\\desktop\\bank_term_deposit_prediction\\venv\\lib\\site-packages (from nltk>=3.6.7->evidently) (1.4.2)\n",
      "Requirement already satisfied: regex>=2021.8.3 in c:\\users\\joy\\desktop\\bank_term_deposit_prediction\\venv\\lib\\site-packages (from nltk>=3.6.7->evidently) (2024.7.24)\n",
      "Requirement already satisfied: tqdm in c:\\users\\joy\\desktop\\bank_term_deposit_prediction\\venv\\lib\\site-packages (from nltk>=3.6.7->evidently) (4.66.5)\n",
      "Requirement already satisfied: deprecated>=1.2.6 in c:\\users\\joy\\desktop\\bank_term_deposit_prediction\\venv\\lib\\site-packages (from opentelemetry-api>=1.25.0->evidently) (1.2.14)\n",
      "Requirement already satisfied: googleapis-common-protos~=1.52 in c:\\users\\joy\\desktop\\bank_term_deposit_prediction\\venv\\lib\\site-packages (from opentelemetry-exporter-otlp-proto-grpc>=1.25.0->evidently) (1.63.2)\n",
      "Requirement already satisfied: grpcio<2.0.0,>=1.0.0 in c:\\users\\joy\\desktop\\bank_term_deposit_prediction\\venv\\lib\\site-packages (from opentelemetry-exporter-otlp-proto-grpc>=1.25.0->evidently) (1.65.4)\n",
      "Requirement already satisfied: opentelemetry-exporter-otlp-proto-common==1.26.0 in c:\\users\\joy\\desktop\\bank_term_deposit_prediction\\venv\\lib\\site-packages (from opentelemetry-exporter-otlp-proto-grpc>=1.25.0->evidently) (1.26.0)\n",
      "Requirement already satisfied: protobuf<5.0,>=3.19 in c:\\users\\joy\\desktop\\bank_term_deposit_prediction\\venv\\lib\\site-packages (from opentelemetry-proto>=1.25.0->evidently) (4.25.4)\n",
      "Requirement already satisfied: opentelemetry-semantic-conventions==0.47b0 in c:\\users\\joy\\desktop\\bank_term_deposit_prediction\\venv\\lib\\site-packages (from opentelemetry-sdk>=1.25.0->evidently) (0.47b0)\n",
      "Requirement already satisfied: python-dateutil>=2.8.2 in c:\\users\\joy\\desktop\\bank_term_deposit_prediction\\venv\\lib\\site-packages (from pandas>=1.3.5->pandas[parquet]>=1.3.5->evidently) (2.9.0.post0)\n",
      "Requirement already satisfied: pytz>=2020.1 in c:\\users\\joy\\desktop\\bank_term_deposit_prediction\\venv\\lib\\site-packages (from pandas>=1.3.5->pandas[parquet]>=1.3.5->evidently) (2024.1)\n",
      "Requirement already satisfied: tzdata>=2022.1 in c:\\users\\joy\\desktop\\bank_term_deposit_prediction\\venv\\lib\\site-packages (from pandas>=1.3.5->pandas[parquet]>=1.3.5->evidently) (2024.1)\n",
      "Requirement already satisfied: pyarrow>=7.0.0 in c:\\users\\joy\\desktop\\bank_term_deposit_prediction\\venv\\lib\\site-packages (from pandas[parquet]>=1.3.5->evidently) (17.0.0)\n",
      "Requirement already satisfied: tenacity>=6.2.0 in c:\\users\\joy\\desktop\\bank_term_deposit_prediction\\venv\\lib\\site-packages (from plotly>=5.10.0->evidently) (9.0.0)\n",
      "Requirement already satisfied: annotated-types>=0.4.0 in c:\\users\\joy\\desktop\\bank_term_deposit_prediction\\venv\\lib\\site-packages (from pydantic>=1.10.13->evidently) (0.7.0)\n",
      "Requirement already satisfied: pydantic-core==2.20.1 in c:\\users\\joy\\desktop\\bank_term_deposit_prediction\\venv\\lib\\site-packages (from pydantic>=1.10.13->evidently) (2.20.1)\n",
      "Requirement already satisfied: charset-normalizer<4,>=2 in c:\\users\\joy\\desktop\\bank_term_deposit_prediction\\venv\\lib\\site-packages (from requests>=2.32.0->evidently) (3.3.2)\n",
      "Requirement already satisfied: idna<4,>=2.5 in c:\\users\\joy\\desktop\\bank_term_deposit_prediction\\venv\\lib\\site-packages (from requests>=2.32.0->evidently) (3.7)\n",
      "Requirement already satisfied: markdown-it-py>=2.2.0 in c:\\users\\joy\\desktop\\bank_term_deposit_prediction\\venv\\lib\\site-packages (from rich>=13->evidently) (3.0.0)\n",
      "Requirement already satisfied: pygments<3.0.0,>=2.13.0 in c:\\users\\joy\\desktop\\bank_term_deposit_prediction\\venv\\lib\\site-packages (from rich>=13->evidently) (2.15.1)\n",
      "Requirement already satisfied: threadpoolctl>=2.0.0 in c:\\users\\joy\\desktop\\bank_term_deposit_prediction\\venv\\lib\\site-packages (from scikit-learn>=1.0.1->evidently) (3.5.0)\n",
      "Requirement already satisfied: patsy>=0.5.2 in c:\\users\\joy\\appdata\\roaming\\python\\python38\\site-packages (from statsmodels>=0.12.2->evidently) (0.5.3)\n",
      "Requirement already satisfied: shellingham>=1.3.0 in c:\\users\\joy\\desktop\\bank_term_deposit_prediction\\venv\\lib\\site-packages (from typer>=0.3->evidently) (1.5.4)\n",
      "Requirement already satisfied: mypy-extensions>=0.3.0 in c:\\users\\joy\\desktop\\bank_term_deposit_prediction\\venv\\lib\\site-packages (from typing-inspect>=0.9.0->evidently) (1.0.0)\n",
      "Requirement already satisfied: h11>=0.8 in c:\\users\\joy\\desktop\\bank_term_deposit_prediction\\venv\\lib\\site-packages (from uvicorn>=0.22.0->uvicorn[standard]>=0.22.0->evidently) (0.14.0)\n",
      "Requirement already satisfied: colorama>=0.4 in c:\\users\\joy\\desktop\\bank_term_deposit_prediction\\venv\\lib\\site-packages (from uvicorn[standard]>=0.22.0->evidently) (0.4.6)\n",
      "Requirement already satisfied: httptools>=0.5.0 in c:\\users\\joy\\desktop\\bank_term_deposit_prediction\\venv\\lib\\site-packages (from uvicorn[standard]>=0.22.0->evidently) (0.6.1)\n",
      "Requirement already satisfied: python-dotenv>=0.13 in c:\\users\\joy\\desktop\\bank_term_deposit_prediction\\venv\\lib\\site-packages (from uvicorn[standard]>=0.22.0->evidently) (1.0.1)\n",
      "Requirement already satisfied: watchfiles>=0.13 in c:\\users\\joy\\desktop\\bank_term_deposit_prediction\\venv\\lib\\site-packages (from uvicorn[standard]>=0.22.0->evidently) (0.23.0)\n",
      "Requirement already satisfied: websockets>=10.4 in c:\\users\\joy\\desktop\\bank_term_deposit_prediction\\venv\\lib\\site-packages (from uvicorn[standard]>=0.22.0->evidently) (12.0)\n",
      "Requirement already satisfied: sniffio>=1.1 in c:\\users\\joy\\desktop\\bank_term_deposit_prediction\\venv\\lib\\site-packages (from anyio>=3->litestar>=2.8.3->evidently) (1.3.1)\n",
      "Requirement already satisfied: wrapt<2,>=1.10 in c:\\users\\joy\\desktop\\bank_term_deposit_prediction\\venv\\lib\\site-packages (from deprecated>=1.2.6->opentelemetry-api>=1.25.0->evidently) (1.16.0)\n",
      "Requirement already satisfied: httpcore==1.* in c:\\users\\joy\\desktop\\bank_term_deposit_prediction\\venv\\lib\\site-packages (from httpx>=0.22->litestar>=2.8.3->evidently) (1.0.5)\n",
      "Requirement already satisfied: zipp>=0.5 in c:\\users\\joy\\desktop\\bank_term_deposit_prediction\\venv\\lib\\site-packages (from importlib-metadata->litestar>=2.8.3->evidently) (3.17.0)\n",
      "Requirement already satisfied: mdurl~=0.1 in c:\\users\\joy\\desktop\\bank_term_deposit_prediction\\venv\\lib\\site-packages (from markdown-it-py>=2.2.0->rich>=13->evidently) (0.1.2)\n",
      "Requirement already satisfied: six in c:\\users\\joy\\desktop\\bank_term_deposit_prediction\\venv\\lib\\site-packages (from patsy>=0.5.2->statsmodels>=0.12.2->evidently) (1.16.0)\n",
      "Requirement already satisfied: faker in c:\\users\\joy\\desktop\\bank_term_deposit_prediction\\venv\\lib\\site-packages (from polyfactory>=2.6.3->litestar>=2.8.3->evidently) (27.0.0)\n",
      "Note: you may need to restart the kernel to use updated packages.\n"
     ]
    }
   ],
   "source": [
    "pip install evidently\n"
   ]
  },
  {
   "cell_type": "code",
   "execution_count": 4,
   "metadata": {},
   "outputs": [],
   "source": []
  },
  {
   "cell_type": "code",
   "execution_count": 1,
   "metadata": {},
   "outputs": [],
   "source": [
    "report = \n"
   ]
  },
  {
   "cell_type": "code",
   "execution_count": null,
   "metadata": {},
   "outputs": [],
   "source": []
  }
 ],
 "metadata": {
  "kernelspec": {
   "display_name": "Python 3",
   "language": "python",
   "name": "python3"
  },
  "language_info": {
   "codemirror_mode": {
    "name": "ipython",
    "version": 3
   },
   "file_extension": ".py",
   "mimetype": "text/x-python",
   "name": "python",
   "nbconvert_exporter": "python",
   "pygments_lexer": "ipython3",
   "version": "3.8.19"
  }
 },
 "nbformat": 4,
 "nbformat_minor": 2
}
